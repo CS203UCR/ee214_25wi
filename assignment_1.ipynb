{
 "cells": [
  {
   "cell_type": "code",
   "execution_count": null,
   "id": "00f35a47-00b6-4b2c-9ada-bce94e1af3af",
   "metadata": {},
   "outputs": [],
   "source": [
    "## Feel free to add more if you need\n",
    "\n",
    "from qiskit import QuantumCircuit, transpile\n",
    "from qiskit_aer import AerSimulator  # pylint: disable=import-error, no-name-in-module\n",
    "from qiskit.visualization import plot_histogram\n",
    "from qiskit.quantum_info import Statevector\n",
    "from qiskit_aer import Aer\n",
    "from qiskit.visualization import array_to_latex\n",
    "import numpy as np\n",
    "from qiskit import assemble\n",
    "from math import pi\n",
    "from qiskit.visualization import plot_bloch_multivector, plot_histogram, array_to_latex"
   ]
  },
  {
   "cell_type": "markdown",
   "id": "c143ae04-96d1-4a02-9736-25f9c98a8f17",
   "metadata": {},
   "source": [
    "### Question 1\n",
    "\n",
    "Assume we apply the **CNOT** gate to states $\\psi$. So the transformation can be expressed as  \n",
    "$CNOT\\vert\\psi \\rangle =x|\\psi \\rangle$ \n",
    "\n",
    "Please write a qiskit program in the cell below and evaluate the eigenvalue."
   ]
  },
  {
   "cell_type": "code",
   "execution_count": null,
   "id": "2013cd80-dcda-4db7-98cc-3b54fd33a600",
   "metadata": {},
   "outputs": [],
   "source": [
    "## Please put your code here."
   ]
  },
  {
   "cell_type": "markdown",
   "id": "e5aadfca-c2c2-4c1d-bbd2-5fd933bdae39",
   "metadata": {},
   "source": [
    "### Question 2\n",
    "\n",
    "We want to create a quantum circuit that solves a 2×2 binary sudoku. The 2×2 binary sudoku problem has two simple rules:\n",
    "\n",
    "- No column may contain the same value twice\n",
    "- No row may contain the same value twice\n",
    "\n",
    "If we assign each square in our sudoku to a variable like so:\n",
    "\n",
    "![2×2 binary sudoku, with each square allocated to a different variable](images/binary_sudoku.png)\n",
    "\n",
    "we want our circuit to output a solution to this sudoku.\n",
    "\n",
    "\n"
   ]
  },
  {
   "cell_type": "code",
   "execution_count": null,
   "id": "e7ab8ea3-606b-43fc-80d7-351a8fcf6bce",
   "metadata": {},
   "outputs": [],
   "source": [
    "## Please put your code here."
   ]
  },
  {
   "cell_type": "markdown",
   "id": "9913d517-7fea-4908-8701-d56581348a49",
   "metadata": {},
   "source": [
    "### Question 3\n",
    "\n",
    "Implementing a Bernstein-Vazirani Algorithm that contains `11101101` as the secret string.\n",
    "\n",
    "\n"
   ]
  },
  {
   "cell_type": "code",
   "execution_count": null,
   "id": "757770ca-c31d-425b-aec6-14961dc18778",
   "metadata": {},
   "outputs": [],
   "source": [
    "## Please put your code here."
   ]
  }
 ],
 "metadata": {
  "kernelspec": {
   "display_name": "Python 3 (ipykernel)",
   "language": "python",
   "name": "python3"
  },
  "language_info": {
   "codemirror_mode": {
    "name": "ipython",
    "version": 3
   },
   "file_extension": ".py",
   "mimetype": "text/x-python",
   "name": "python",
   "nbconvert_exporter": "python",
   "pygments_lexer": "ipython3",
   "version": "3.9.7"
  }
 },
 "nbformat": 4,
 "nbformat_minor": 5
}
