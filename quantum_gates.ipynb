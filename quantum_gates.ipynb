{
 "cells": [
  {
   "cell_type": "code",
   "execution_count": null,
   "id": "ca122d62-7b3b-41a8-af6a-3b3db9d0b433",
   "metadata": {},
   "outputs": [],
   "source": [
    "from qiskit import QuantumCircuit\n",
    "# Create quantum circuit with 2 qubits and 2 classical bits\n",
    "# (we'll explain why we need the classical bits later)\n",
    "qc = QuantumCircuit(2, 2)\n",
    "qc.draw(output=\"latex\")  # returns a drawing of the circuit"
   ]
  },
  {
   "cell_type": "code",
   "execution_count": null,
   "id": "89aa5343-1b5b-487e-b78a-6e1a491c46c6",
   "metadata": {},
   "outputs": [],
   "source": [
    "# measure qubits 0, 1 to classical bits 0, 1  respectively\n",
    "qc.measure([0,1], [0,1])\n",
    "qc.draw(output=\"latex\")"
   ]
  },
  {
   "cell_type": "code",
   "execution_count": null,
   "id": "c62e09d3-0ce9-4c03-a5a9-535faa11c79f",
   "metadata": {},
   "outputs": [],
   "source": [
    "qc = QuantumCircuit(4, 2)\n",
    "# First, our circuit should encode an input (here '11')\n",
    "qc.x(0)\n",
    "qc.x(1)\n",
    "qc.draw(output=\"latex\")"
   ]
  },
  {
   "cell_type": "code",
   "execution_count": null,
   "id": "285a6a82-357f-45cb-aeb4-03428060d575",
   "metadata": {},
   "outputs": [],
   "source": [
    "# Next, it should carry out the adder circuit we created\n",
    "# CNOT to move q0 to q2\n",
    "qc.cx(0,2)\n",
    "# CNOT on q0/q2 with q2\n",
    "qc.cx(1,2)\n",
    "# Toffoli on q0, q1 and q3\n",
    "qc.ccx(0,1,3)\n",
    "qc.draw(output=\"latex\")"
   ]
  },
  {
   "cell_type": "code",
   "execution_count": null,
   "id": "5ac7cfd9-a3e8-4173-8859-2cf3a25d124e",
   "metadata": {},
   "outputs": [],
   "source": [
    "# Finally, the measurement!\n",
    "qc.measure(2,0)\n",
    "qc.measure(3,1)\n",
    "qc.draw(output=\"latex\")"
   ]
  },
  {
   "cell_type": "code",
   "execution_count": null,
   "id": "38c05fdd-88b7-4a6a-821b-05de72963615",
   "metadata": {},
   "outputs": [],
   "source": [
    "# Let's simulate the circuit!\n",
    "\n",
    "from qiskit_aer import AerSimulator  # pylint: disable=import-error, no-name-in-module\n",
    "sim = AerSimulator()  # make new simulator object\n",
    "job = sim.run(qc)  # run the experiment\n",
    "result = job.result()   # get the results\n",
    "result.get_counts()     # interpret the results as a “counts” dictionary"
   ]
  },
  {
   "cell_type": "code",
   "execution_count": null,
   "id": "e0343717-a380-4e7f-ba15-195b53836884",
   "metadata": {},
   "outputs": [],
   "source": [
    "# Let's try other values!\n",
    "from qiskit_aer import AerSimulator  # pylint: disable=import-error, no-name-in-module\n",
    "qc = QuantumCircuit(4, 2)\n",
    "# First, our circuit should encode an input (here '10')\n",
    "qc.x(0)\n",
    "#qc.x(1)\n",
    "qc.draw(output=\"latex\")\n",
    "# Next, it should carry out the adder circuit we created\n",
    "# CNOT to move q0 to q2\n",
    "qc.cx(0,2)\n",
    "# CNOT on q0/q2 with q2\n",
    "qc.cx(1,2)\n",
    "# Toffoli on q0, q1 and q3\n",
    "qc.ccx(0,1,3)\n",
    "qc.draw(output=\"latex\")\n",
    "# Finally, the measurement!\n",
    "qc.measure(2,0)\n",
    "qc.measure(3,1)\n",
    "qc.draw(output=\"latex\")\n",
    "sim = AerSimulator()  # make new simulator object\n",
    "job = sim.run(qc)  # run the experiment\n",
    "result = job.result()   # get the results\n",
    "result.get_counts()     # interpret the results as a “counts” dictionary"
   ]
  },
  {
   "cell_type": "code",
   "execution_count": null,
   "id": "9c26948e-247a-4bf7-bff8-27aad41bb26f",
   "metadata": {},
   "outputs": [],
   "source": []
  }
 ],
 "metadata": {
  "kernelspec": {
   "display_name": "Python 3 (ipykernel)",
   "language": "python",
   "name": "python3"
  },
  "language_info": {
   "codemirror_mode": {
    "name": "ipython",
    "version": 3
   },
   "file_extension": ".py",
   "mimetype": "text/x-python",
   "name": "python",
   "nbconvert_exporter": "python",
   "pygments_lexer": "ipython3",
   "version": "3.9.7"
  }
 },
 "nbformat": 4,
 "nbformat_minor": 5
}
